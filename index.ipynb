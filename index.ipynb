{
 "cells": [
  {
   "cell_type": "code",
   "execution_count": 8,
   "id": "6759038e",
   "metadata": {},
   "outputs": [
    {
     "name": "stdout",
     "output_type": "stream",
     "text": [
      "[1 2 3]\n",
      "   A  B\n",
      "0  1  3\n",
      "1  2  4\n"
     ]
    }
   ],
   "source": [
    "import numpy as np\n",
    "import pandas as pd\n",
    "\n",
    "arr = np.array([1, 2, 3])\n",
    "print(arr)\n",
    "\n",
    "df = pd.DataFrame({'A': [1, 2], 'B': [3, 4]})\n",
    "print(df)"
   ]
  },
  {
   "cell_type": "code",
   "execution_count": 2,
   "id": "4cff0dd7",
   "metadata": {},
   "outputs": [
    {
     "name": "stdout",
     "output_type": "stream",
     "text": [
      "Before imputation:\n",
      "Age    2\n",
      "dtype: int64\n",
      "\n",
      "After imputation:\n",
      "Age    0\n",
      "dtype: int64\n"
     ]
    }
   ],
   "source": [
    "import numpy as np\n",
    "import pandas as pd\n",
    "from sklearn.impute import SimpleImputer\n",
    "\n",
    "# Sample data with NaN\n",
    "data = {\"Age\": [25, np.nan, 30, 22, np.nan]}\n",
    "df = pd.DataFrame(data)\n",
    "\n",
    "print(\"Before imputation:\")\n",
    "print(df.isnull().sum())  # count nulls\n",
    "\n",
    "# Impute missing values with mean\n",
    "imputer = SimpleImputer(strategy=\"mean\")\n",
    "df[\"Age\"] = imputer.fit_transform(df[[\"Age\"]])\n",
    "\n",
    "print(\"\\nAfter imputation:\")\n",
    "print(df.isnull().sum())  # count nulls again"
   ]
  }
 ],
 "metadata": {
  "kernelspec": {
   "display_name": "Python 3",
   "language": "python",
   "name": "python3"
  },
  "language_info": {
   "codemirror_mode": {
    "name": "ipython",
    "version": 3
   },
   "file_extension": ".py",
   "mimetype": "text/x-python",
   "name": "python",
   "nbconvert_exporter": "python",
   "pygments_lexer": "ipython3",
   "version": "3.11.9"
  }
 },
 "nbformat": 4,
 "nbformat_minor": 5
}
